{
 "cells": [
  {
   "cell_type": "markdown",
   "id": "3c4b0233",
   "metadata": {},
   "source": [
    "## Loan Lending EDA"
   ]
  },
  {
   "cell_type": "markdown",
   "id": "52bd2096",
   "metadata": {},
   "source": [
    "#### Data understandig and Data Cleaning"
   ]
  },
  {
   "cell_type": "code",
   "execution_count": 2,
   "id": "91b4e86b",
   "metadata": {},
   "outputs": [],
   "source": [
    "# import the neccesary libraries\n",
    "import numpy as np\n",
    "import pandas as pd\n",
    "import seaborn as sns\n",
    "import matplotlib.pyplot as plt\n",
    "import warnings\n",
    "warnings.filterwarnings('ignore')"
   ]
  },
  {
   "cell_type": "code",
   "execution_count": 3,
   "id": "f5a2c86e",
   "metadata": {
    "scrolled": true
   },
   "outputs": [
    {
     "data": {
      "text/html": [
       "<div>\n",
       "<style scoped>\n",
       "    .dataframe tbody tr th:only-of-type {\n",
       "        vertical-align: middle;\n",
       "    }\n",
       "\n",
       "    .dataframe tbody tr th {\n",
       "        vertical-align: top;\n",
       "    }\n",
       "\n",
       "    .dataframe thead th {\n",
       "        text-align: right;\n",
       "    }\n",
       "</style>\n",
       "<table border=\"1\" class=\"dataframe\">\n",
       "  <thead>\n",
       "    <tr style=\"text-align: right;\">\n",
       "      <th></th>\n",
       "      <th>id</th>\n",
       "      <th>member_id</th>\n",
       "      <th>loan_amnt</th>\n",
       "      <th>funded_amnt</th>\n",
       "      <th>funded_amnt_inv</th>\n",
       "      <th>term</th>\n",
       "      <th>int_rate</th>\n",
       "      <th>installment</th>\n",
       "      <th>grade</th>\n",
       "      <th>sub_grade</th>\n",
       "      <th>...</th>\n",
       "      <th>num_tl_90g_dpd_24m</th>\n",
       "      <th>num_tl_op_past_12m</th>\n",
       "      <th>pct_tl_nvr_dlq</th>\n",
       "      <th>percent_bc_gt_75</th>\n",
       "      <th>pub_rec_bankruptcies</th>\n",
       "      <th>tax_liens</th>\n",
       "      <th>tot_hi_cred_lim</th>\n",
       "      <th>total_bal_ex_mort</th>\n",
       "      <th>total_bc_limit</th>\n",
       "      <th>total_il_high_credit_limit</th>\n",
       "    </tr>\n",
       "  </thead>\n",
       "  <tbody>\n",
       "    <tr>\n",
       "      <th>0</th>\n",
       "      <td>1077501</td>\n",
       "      <td>1296599</td>\n",
       "      <td>5000</td>\n",
       "      <td>5000</td>\n",
       "      <td>4975.0</td>\n",
       "      <td>36 months</td>\n",
       "      <td>10.65%</td>\n",
       "      <td>162.87</td>\n",
       "      <td>B</td>\n",
       "      <td>B2</td>\n",
       "      <td>...</td>\n",
       "      <td>NaN</td>\n",
       "      <td>NaN</td>\n",
       "      <td>NaN</td>\n",
       "      <td>NaN</td>\n",
       "      <td>0.0</td>\n",
       "      <td>0.0</td>\n",
       "      <td>NaN</td>\n",
       "      <td>NaN</td>\n",
       "      <td>NaN</td>\n",
       "      <td>NaN</td>\n",
       "    </tr>\n",
       "    <tr>\n",
       "      <th>1</th>\n",
       "      <td>1077430</td>\n",
       "      <td>1314167</td>\n",
       "      <td>2500</td>\n",
       "      <td>2500</td>\n",
       "      <td>2500.0</td>\n",
       "      <td>60 months</td>\n",
       "      <td>15.27%</td>\n",
       "      <td>59.83</td>\n",
       "      <td>C</td>\n",
       "      <td>C4</td>\n",
       "      <td>...</td>\n",
       "      <td>NaN</td>\n",
       "      <td>NaN</td>\n",
       "      <td>NaN</td>\n",
       "      <td>NaN</td>\n",
       "      <td>0.0</td>\n",
       "      <td>0.0</td>\n",
       "      <td>NaN</td>\n",
       "      <td>NaN</td>\n",
       "      <td>NaN</td>\n",
       "      <td>NaN</td>\n",
       "    </tr>\n",
       "    <tr>\n",
       "      <th>2</th>\n",
       "      <td>1077175</td>\n",
       "      <td>1313524</td>\n",
       "      <td>2400</td>\n",
       "      <td>2400</td>\n",
       "      <td>2400.0</td>\n",
       "      <td>36 months</td>\n",
       "      <td>15.96%</td>\n",
       "      <td>84.33</td>\n",
       "      <td>C</td>\n",
       "      <td>C5</td>\n",
       "      <td>...</td>\n",
       "      <td>NaN</td>\n",
       "      <td>NaN</td>\n",
       "      <td>NaN</td>\n",
       "      <td>NaN</td>\n",
       "      <td>0.0</td>\n",
       "      <td>0.0</td>\n",
       "      <td>NaN</td>\n",
       "      <td>NaN</td>\n",
       "      <td>NaN</td>\n",
       "      <td>NaN</td>\n",
       "    </tr>\n",
       "    <tr>\n",
       "      <th>3</th>\n",
       "      <td>1076863</td>\n",
       "      <td>1277178</td>\n",
       "      <td>10000</td>\n",
       "      <td>10000</td>\n",
       "      <td>10000.0</td>\n",
       "      <td>36 months</td>\n",
       "      <td>13.49%</td>\n",
       "      <td>339.31</td>\n",
       "      <td>C</td>\n",
       "      <td>C1</td>\n",
       "      <td>...</td>\n",
       "      <td>NaN</td>\n",
       "      <td>NaN</td>\n",
       "      <td>NaN</td>\n",
       "      <td>NaN</td>\n",
       "      <td>0.0</td>\n",
       "      <td>0.0</td>\n",
       "      <td>NaN</td>\n",
       "      <td>NaN</td>\n",
       "      <td>NaN</td>\n",
       "      <td>NaN</td>\n",
       "    </tr>\n",
       "    <tr>\n",
       "      <th>4</th>\n",
       "      <td>1075358</td>\n",
       "      <td>1311748</td>\n",
       "      <td>3000</td>\n",
       "      <td>3000</td>\n",
       "      <td>3000.0</td>\n",
       "      <td>60 months</td>\n",
       "      <td>12.69%</td>\n",
       "      <td>67.79</td>\n",
       "      <td>B</td>\n",
       "      <td>B5</td>\n",
       "      <td>...</td>\n",
       "      <td>NaN</td>\n",
       "      <td>NaN</td>\n",
       "      <td>NaN</td>\n",
       "      <td>NaN</td>\n",
       "      <td>0.0</td>\n",
       "      <td>0.0</td>\n",
       "      <td>NaN</td>\n",
       "      <td>NaN</td>\n",
       "      <td>NaN</td>\n",
       "      <td>NaN</td>\n",
       "    </tr>\n",
       "  </tbody>\n",
       "</table>\n",
       "<p>5 rows × 111 columns</p>\n",
       "</div>"
      ],
      "text/plain": [
       "        id  member_id  loan_amnt  funded_amnt  funded_amnt_inv        term  \\\n",
       "0  1077501    1296599       5000         5000           4975.0   36 months   \n",
       "1  1077430    1314167       2500         2500           2500.0   60 months   \n",
       "2  1077175    1313524       2400         2400           2400.0   36 months   \n",
       "3  1076863    1277178      10000        10000          10000.0   36 months   \n",
       "4  1075358    1311748       3000         3000           3000.0   60 months   \n",
       "\n",
       "  int_rate  installment grade sub_grade  ... num_tl_90g_dpd_24m  \\\n",
       "0   10.65%       162.87     B        B2  ...                NaN   \n",
       "1   15.27%        59.83     C        C4  ...                NaN   \n",
       "2   15.96%        84.33     C        C5  ...                NaN   \n",
       "3   13.49%       339.31     C        C1  ...                NaN   \n",
       "4   12.69%        67.79     B        B5  ...                NaN   \n",
       "\n",
       "  num_tl_op_past_12m pct_tl_nvr_dlq  percent_bc_gt_75 pub_rec_bankruptcies  \\\n",
       "0                NaN            NaN               NaN                  0.0   \n",
       "1                NaN            NaN               NaN                  0.0   \n",
       "2                NaN            NaN               NaN                  0.0   \n",
       "3                NaN            NaN               NaN                  0.0   \n",
       "4                NaN            NaN               NaN                  0.0   \n",
       "\n",
       "  tax_liens tot_hi_cred_lim total_bal_ex_mort total_bc_limit  \\\n",
       "0       0.0             NaN               NaN            NaN   \n",
       "1       0.0             NaN               NaN            NaN   \n",
       "2       0.0             NaN               NaN            NaN   \n",
       "3       0.0             NaN               NaN            NaN   \n",
       "4       0.0             NaN               NaN            NaN   \n",
       "\n",
       "  total_il_high_credit_limit  \n",
       "0                        NaN  \n",
       "1                        NaN  \n",
       "2                        NaN  \n",
       "3                        NaN  \n",
       "4                        NaN  \n",
       "\n",
       "[5 rows x 111 columns]"
      ]
     },
     "execution_count": 3,
     "metadata": {},
     "output_type": "execute_result"
    }
   ],
   "source": [
    "# reading data file\n",
    "\n",
    "loan = pd.read_csv('loan.csv')\n",
    "loan.head()"
   ]
  },
  {
   "cell_type": "code",
   "execution_count": 4,
   "id": "8dbf1fda",
   "metadata": {},
   "outputs": [
    {
     "name": "stdout",
     "output_type": "stream",
     "text": [
      "<class 'pandas.core.frame.DataFrame'>\n",
      "RangeIndex: 39717 entries, 0 to 39716\n",
      "Columns: 111 entries, id to total_il_high_credit_limit\n",
      "dtypes: float64(74), int64(13), object(24)\n",
      "memory usage: 33.6+ MB\n"
     ]
    }
   ],
   "source": [
    "# review the data structure\n",
    "loan.info()\n"
   ]
  },
  {
   "cell_type": "code",
   "execution_count": 5,
   "id": "4f20fa6d",
   "metadata": {},
   "outputs": [
    {
     "data": {
      "text/plain": [
       "(39717, 111)"
      ]
     },
     "execution_count": 5,
     "metadata": {},
     "output_type": "execute_result"
    }
   ],
   "source": [
    "loan.shape"
   ]
  },
  {
   "cell_type": "markdown",
   "id": "d0491031",
   "metadata": {},
   "source": [
    "As you can see that this is a huge dataset with lots of missing values and redundant columns so it needs to be drop."
   ]
  },
  {
   "cell_type": "code",
   "execution_count": 6,
   "id": "65a5ff68",
   "metadata": {},
   "outputs": [
    {
     "name": "stdout",
     "output_type": "stream",
     "text": [
      "<class 'pandas.core.frame.DataFrame'>\n",
      "RangeIndex: 39717 entries, 0 to 39716\n",
      "Data columns (total 54 columns):\n",
      " #   Column                       Non-Null Count  Dtype  \n",
      "---  ------                       --------------  -----  \n",
      " 0   id                           39717 non-null  int64  \n",
      " 1   member_id                    39717 non-null  int64  \n",
      " 2   loan_amnt                    39717 non-null  int64  \n",
      " 3   funded_amnt                  39717 non-null  int64  \n",
      " 4   funded_amnt_inv              39717 non-null  float64\n",
      " 5   term                         39717 non-null  object \n",
      " 6   int_rate                     39717 non-null  object \n",
      " 7   installment                  39717 non-null  float64\n",
      " 8   grade                        39717 non-null  object \n",
      " 9   sub_grade                    39717 non-null  object \n",
      " 10  emp_title                    37258 non-null  object \n",
      " 11  emp_length                   38642 non-null  object \n",
      " 12  home_ownership               39717 non-null  object \n",
      " 13  annual_inc                   39717 non-null  float64\n",
      " 14  verification_status          39717 non-null  object \n",
      " 15  issue_d                      39717 non-null  object \n",
      " 16  loan_status                  39717 non-null  object \n",
      " 17  pymnt_plan                   39717 non-null  object \n",
      " 18  url                          39717 non-null  object \n",
      " 19  desc                         26777 non-null  object \n",
      " 20  purpose                      39717 non-null  object \n",
      " 21  title                        39706 non-null  object \n",
      " 22  zip_code                     39717 non-null  object \n",
      " 23  addr_state                   39717 non-null  object \n",
      " 24  dti                          39717 non-null  float64\n",
      " 25  delinq_2yrs                  39717 non-null  int64  \n",
      " 26  earliest_cr_line             39717 non-null  object \n",
      " 27  inq_last_6mths               39717 non-null  int64  \n",
      " 28  mths_since_last_delinq       14035 non-null  float64\n",
      " 29  mths_since_last_record       2786 non-null   float64\n",
      " 30  open_acc                     39717 non-null  int64  \n",
      " 31  pub_rec                      39717 non-null  int64  \n",
      " 32  revol_bal                    39717 non-null  int64  \n",
      " 33  revol_util                   39667 non-null  object \n",
      " 34  total_acc                    39717 non-null  int64  \n",
      " 35  initial_list_status          39717 non-null  object \n",
      " 36  out_prncp                    39717 non-null  float64\n",
      " 37  out_prncp_inv                39717 non-null  float64\n",
      " 38  total_pymnt                  39717 non-null  float64\n",
      " 39  total_pymnt_inv              39717 non-null  float64\n",
      " 40  total_rec_prncp              39717 non-null  float64\n",
      " 41  total_rec_int                39717 non-null  float64\n",
      " 42  total_rec_late_fee           39717 non-null  float64\n",
      " 43  recoveries                   39717 non-null  float64\n",
      " 44  collection_recovery_fee      39717 non-null  float64\n",
      " 45  last_pymnt_d                 39646 non-null  object \n",
      " 46  last_pymnt_amnt              39717 non-null  float64\n",
      " 47  next_pymnt_d                 1140 non-null   object \n",
      " 48  last_credit_pull_d           39715 non-null  object \n",
      " 49  collections_12_mths_ex_med   39661 non-null  float64\n",
      " 50  mths_since_last_major_derog  0 non-null      float64\n",
      " 51  policy_code                  39717 non-null  int64  \n",
      " 52  application_type             39717 non-null  object \n",
      " 53  total_il_high_credit_limit   0 non-null      float64\n",
      "dtypes: float64(19), int64(11), object(24)\n",
      "memory usage: 16.4+ MB\n"
     ]
    }
   ],
   "source": [
    "# Drop the coloumns from index 53 to 110 as they have 100 % null values and irrelevant for the analysis\n",
    "\n",
    "loan.drop(loan.iloc[:, 53:110], inplace = True, axis = 1)\n",
    "loan.info()"
   ]
  },
  {
   "cell_type": "code",
   "execution_count": 7,
   "id": "11e0a44e",
   "metadata": {},
   "outputs": [
    {
     "data": {
      "text/html": [
       "<div>\n",
       "<style scoped>\n",
       "    .dataframe tbody tr th:only-of-type {\n",
       "        vertical-align: middle;\n",
       "    }\n",
       "\n",
       "    .dataframe tbody tr th {\n",
       "        vertical-align: top;\n",
       "    }\n",
       "\n",
       "    .dataframe thead th {\n",
       "        text-align: right;\n",
       "    }\n",
       "</style>\n",
       "<table border=\"1\" class=\"dataframe\">\n",
       "  <thead>\n",
       "    <tr style=\"text-align: right;\">\n",
       "      <th></th>\n",
       "      <th>id</th>\n",
       "      <th>member_id</th>\n",
       "      <th>loan_amnt</th>\n",
       "      <th>funded_amnt</th>\n",
       "      <th>funded_amnt_inv</th>\n",
       "      <th>term</th>\n",
       "      <th>int_rate</th>\n",
       "      <th>installment</th>\n",
       "      <th>grade</th>\n",
       "      <th>sub_grade</th>\n",
       "      <th>...</th>\n",
       "      <th>collection_recovery_fee</th>\n",
       "      <th>last_pymnt_d</th>\n",
       "      <th>last_pymnt_amnt</th>\n",
       "      <th>next_pymnt_d</th>\n",
       "      <th>last_credit_pull_d</th>\n",
       "      <th>collections_12_mths_ex_med</th>\n",
       "      <th>mths_since_last_major_derog</th>\n",
       "      <th>policy_code</th>\n",
       "      <th>application_type</th>\n",
       "      <th>total_il_high_credit_limit</th>\n",
       "    </tr>\n",
       "  </thead>\n",
       "  <tbody>\n",
       "    <tr>\n",
       "      <th>0</th>\n",
       "      <td>1077501</td>\n",
       "      <td>1296599</td>\n",
       "      <td>5000</td>\n",
       "      <td>5000</td>\n",
       "      <td>4975.0</td>\n",
       "      <td>36 months</td>\n",
       "      <td>10.65%</td>\n",
       "      <td>162.87</td>\n",
       "      <td>B</td>\n",
       "      <td>B2</td>\n",
       "      <td>...</td>\n",
       "      <td>0.00</td>\n",
       "      <td>Jan-15</td>\n",
       "      <td>171.62</td>\n",
       "      <td>NaN</td>\n",
       "      <td>May-16</td>\n",
       "      <td>0.0</td>\n",
       "      <td>NaN</td>\n",
       "      <td>1</td>\n",
       "      <td>INDIVIDUAL</td>\n",
       "      <td>NaN</td>\n",
       "    </tr>\n",
       "    <tr>\n",
       "      <th>1</th>\n",
       "      <td>1077430</td>\n",
       "      <td>1314167</td>\n",
       "      <td>2500</td>\n",
       "      <td>2500</td>\n",
       "      <td>2500.0</td>\n",
       "      <td>60 months</td>\n",
       "      <td>15.27%</td>\n",
       "      <td>59.83</td>\n",
       "      <td>C</td>\n",
       "      <td>C4</td>\n",
       "      <td>...</td>\n",
       "      <td>1.11</td>\n",
       "      <td>Apr-13</td>\n",
       "      <td>119.66</td>\n",
       "      <td>NaN</td>\n",
       "      <td>Sep-13</td>\n",
       "      <td>0.0</td>\n",
       "      <td>NaN</td>\n",
       "      <td>1</td>\n",
       "      <td>INDIVIDUAL</td>\n",
       "      <td>NaN</td>\n",
       "    </tr>\n",
       "    <tr>\n",
       "      <th>2</th>\n",
       "      <td>1077175</td>\n",
       "      <td>1313524</td>\n",
       "      <td>2400</td>\n",
       "      <td>2400</td>\n",
       "      <td>2400.0</td>\n",
       "      <td>36 months</td>\n",
       "      <td>15.96%</td>\n",
       "      <td>84.33</td>\n",
       "      <td>C</td>\n",
       "      <td>C5</td>\n",
       "      <td>...</td>\n",
       "      <td>0.00</td>\n",
       "      <td>Jun-14</td>\n",
       "      <td>649.91</td>\n",
       "      <td>NaN</td>\n",
       "      <td>May-16</td>\n",
       "      <td>0.0</td>\n",
       "      <td>NaN</td>\n",
       "      <td>1</td>\n",
       "      <td>INDIVIDUAL</td>\n",
       "      <td>NaN</td>\n",
       "    </tr>\n",
       "    <tr>\n",
       "      <th>3</th>\n",
       "      <td>1076863</td>\n",
       "      <td>1277178</td>\n",
       "      <td>10000</td>\n",
       "      <td>10000</td>\n",
       "      <td>10000.0</td>\n",
       "      <td>36 months</td>\n",
       "      <td>13.49%</td>\n",
       "      <td>339.31</td>\n",
       "      <td>C</td>\n",
       "      <td>C1</td>\n",
       "      <td>...</td>\n",
       "      <td>0.00</td>\n",
       "      <td>Jan-15</td>\n",
       "      <td>357.48</td>\n",
       "      <td>NaN</td>\n",
       "      <td>Apr-16</td>\n",
       "      <td>0.0</td>\n",
       "      <td>NaN</td>\n",
       "      <td>1</td>\n",
       "      <td>INDIVIDUAL</td>\n",
       "      <td>NaN</td>\n",
       "    </tr>\n",
       "    <tr>\n",
       "      <th>4</th>\n",
       "      <td>1075358</td>\n",
       "      <td>1311748</td>\n",
       "      <td>3000</td>\n",
       "      <td>3000</td>\n",
       "      <td>3000.0</td>\n",
       "      <td>60 months</td>\n",
       "      <td>12.69%</td>\n",
       "      <td>67.79</td>\n",
       "      <td>B</td>\n",
       "      <td>B5</td>\n",
       "      <td>...</td>\n",
       "      <td>0.00</td>\n",
       "      <td>May-16</td>\n",
       "      <td>67.79</td>\n",
       "      <td>Jun-16</td>\n",
       "      <td>May-16</td>\n",
       "      <td>0.0</td>\n",
       "      <td>NaN</td>\n",
       "      <td>1</td>\n",
       "      <td>INDIVIDUAL</td>\n",
       "      <td>NaN</td>\n",
       "    </tr>\n",
       "  </tbody>\n",
       "</table>\n",
       "<p>5 rows × 54 columns</p>\n",
       "</div>"
      ],
      "text/plain": [
       "        id  member_id  loan_amnt  funded_amnt  funded_amnt_inv        term  \\\n",
       "0  1077501    1296599       5000         5000           4975.0   36 months   \n",
       "1  1077430    1314167       2500         2500           2500.0   60 months   \n",
       "2  1077175    1313524       2400         2400           2400.0   36 months   \n",
       "3  1076863    1277178      10000        10000          10000.0   36 months   \n",
       "4  1075358    1311748       3000         3000           3000.0   60 months   \n",
       "\n",
       "  int_rate  installment grade sub_grade  ... collection_recovery_fee  \\\n",
       "0   10.65%       162.87     B        B2  ...                    0.00   \n",
       "1   15.27%        59.83     C        C4  ...                    1.11   \n",
       "2   15.96%        84.33     C        C5  ...                    0.00   \n",
       "3   13.49%       339.31     C        C1  ...                    0.00   \n",
       "4   12.69%        67.79     B        B5  ...                    0.00   \n",
       "\n",
       "  last_pymnt_d last_pymnt_amnt  next_pymnt_d last_credit_pull_d  \\\n",
       "0       Jan-15          171.62           NaN             May-16   \n",
       "1       Apr-13          119.66           NaN             Sep-13   \n",
       "2       Jun-14          649.91           NaN             May-16   \n",
       "3       Jan-15          357.48           NaN             Apr-16   \n",
       "4       May-16           67.79        Jun-16             May-16   \n",
       "\n",
       "  collections_12_mths_ex_med mths_since_last_major_derog policy_code  \\\n",
       "0                        0.0                         NaN           1   \n",
       "1                        0.0                         NaN           1   \n",
       "2                        0.0                         NaN           1   \n",
       "3                        0.0                         NaN           1   \n",
       "4                        0.0                         NaN           1   \n",
       "\n",
       "  application_type total_il_high_credit_limit  \n",
       "0       INDIVIDUAL                        NaN  \n",
       "1       INDIVIDUAL                        NaN  \n",
       "2       INDIVIDUAL                        NaN  \n",
       "3       INDIVIDUAL                        NaN  \n",
       "4       INDIVIDUAL                        NaN  \n",
       "\n",
       "[5 rows x 54 columns]"
      ]
     },
     "execution_count": 7,
     "metadata": {},
     "output_type": "execute_result"
    }
   ],
   "source": [
    "loan.head()"
   ]
  },
  {
   "cell_type": "markdown",
   "id": "2be48755",
   "metadata": {},
   "source": [
    "#### Missing value treatement "
   ]
  },
  {
   "cell_type": "code",
   "execution_count": 8,
   "id": "006dfeaf",
   "metadata": {},
   "outputs": [
    {
     "data": {
      "text/plain": [
       "id                                 0\n",
       "member_id                          0\n",
       "loan_amnt                          0\n",
       "funded_amnt                        0\n",
       "funded_amnt_inv                    0\n",
       "term                               0\n",
       "int_rate                           0\n",
       "installment                        0\n",
       "grade                              0\n",
       "sub_grade                          0\n",
       "emp_title                       2459\n",
       "emp_length                      1075\n",
       "home_ownership                     0\n",
       "annual_inc                         0\n",
       "verification_status                0\n",
       "issue_d                            0\n",
       "loan_status                        0\n",
       "pymnt_plan                         0\n",
       "url                                0\n",
       "desc                           12940\n",
       "purpose                            0\n",
       "title                             11\n",
       "zip_code                           0\n",
       "addr_state                         0\n",
       "dti                                0\n",
       "delinq_2yrs                        0\n",
       "earliest_cr_line                   0\n",
       "inq_last_6mths                     0\n",
       "mths_since_last_delinq         25682\n",
       "mths_since_last_record         36931\n",
       "open_acc                           0\n",
       "pub_rec                            0\n",
       "revol_bal                          0\n",
       "revol_util                        50\n",
       "total_acc                          0\n",
       "initial_list_status                0\n",
       "out_prncp                          0\n",
       "out_prncp_inv                      0\n",
       "total_pymnt                        0\n",
       "total_pymnt_inv                    0\n",
       "total_rec_prncp                    0\n",
       "total_rec_int                      0\n",
       "total_rec_late_fee                 0\n",
       "recoveries                         0\n",
       "collection_recovery_fee            0\n",
       "last_pymnt_d                      71\n",
       "last_pymnt_amnt                    0\n",
       "next_pymnt_d                   38577\n",
       "last_credit_pull_d                 2\n",
       "collections_12_mths_ex_med        56\n",
       "mths_since_last_major_derog    39717\n",
       "policy_code                        0\n",
       "application_type                   0\n",
       "total_il_high_credit_limit     39717\n",
       "dtype: int64"
      ]
     },
     "execution_count": 8,
     "metadata": {},
     "output_type": "execute_result"
    }
   ],
   "source": [
    "loan.isnull().sum()"
   ]
  },
  {
   "cell_type": "code",
   "execution_count": 9,
   "id": "d415d9b6",
   "metadata": {},
   "outputs": [
    {
     "data": {
      "text/plain": [
       "id                               0.00\n",
       "member_id                        0.00\n",
       "loan_amnt                        0.00\n",
       "funded_amnt                      0.00\n",
       "funded_amnt_inv                  0.00\n",
       "term                             0.00\n",
       "int_rate                         0.00\n",
       "installment                      0.00\n",
       "grade                            0.00\n",
       "sub_grade                        0.00\n",
       "emp_title                        6.19\n",
       "emp_length                       2.71\n",
       "home_ownership                   0.00\n",
       "annual_inc                       0.00\n",
       "verification_status              0.00\n",
       "issue_d                          0.00\n",
       "loan_status                      0.00\n",
       "pymnt_plan                       0.00\n",
       "url                              0.00\n",
       "desc                            32.58\n",
       "purpose                          0.00\n",
       "title                            0.03\n",
       "zip_code                         0.00\n",
       "addr_state                       0.00\n",
       "dti                              0.00\n",
       "delinq_2yrs                      0.00\n",
       "earliest_cr_line                 0.00\n",
       "inq_last_6mths                   0.00\n",
       "mths_since_last_delinq          64.66\n",
       "mths_since_last_record          92.99\n",
       "open_acc                         0.00\n",
       "pub_rec                          0.00\n",
       "revol_bal                        0.00\n",
       "revol_util                       0.13\n",
       "total_acc                        0.00\n",
       "initial_list_status              0.00\n",
       "out_prncp                        0.00\n",
       "out_prncp_inv                    0.00\n",
       "total_pymnt                      0.00\n",
       "total_pymnt_inv                  0.00\n",
       "total_rec_prncp                  0.00\n",
       "total_rec_int                    0.00\n",
       "total_rec_late_fee               0.00\n",
       "recoveries                       0.00\n",
       "collection_recovery_fee          0.00\n",
       "last_pymnt_d                     0.18\n",
       "last_pymnt_amnt                  0.00\n",
       "next_pymnt_d                    97.13\n",
       "last_credit_pull_d               0.01\n",
       "collections_12_mths_ex_med       0.14\n",
       "mths_since_last_major_derog    100.00\n",
       "policy_code                      0.00\n",
       "application_type                 0.00\n",
       "total_il_high_credit_limit     100.00\n",
       "dtype: float64"
      ]
     },
     "execution_count": 9,
     "metadata": {},
     "output_type": "execute_result"
    }
   ],
   "source": [
    "# lets see the percentage of missing values in column\n",
    "\n",
    "round(100*(loan.isnull().sum()/len(loan.index)), 2)"
   ]
  },
  {
   "cell_type": "code",
   "execution_count": 10,
   "id": "7fc427bf",
   "metadata": {},
   "outputs": [
    {
     "data": {
      "text/plain": [
       "Index(['id', 'member_id', 'loan_amnt', 'funded_amnt', 'funded_amnt_inv',\n",
       "       'term', 'int_rate', 'installment', 'grade', 'sub_grade', 'emp_title',\n",
       "       'emp_length', 'home_ownership', 'annual_inc', 'verification_status',\n",
       "       'issue_d', 'loan_status', 'pymnt_plan', 'url', 'desc', 'purpose',\n",
       "       'title', 'zip_code', 'addr_state', 'dti', 'delinq_2yrs',\n",
       "       'earliest_cr_line', 'inq_last_6mths', 'mths_since_last_delinq',\n",
       "       'mths_since_last_record', 'open_acc', 'pub_rec', 'revol_bal',\n",
       "       'revol_util', 'total_acc', 'initial_list_status', 'out_prncp',\n",
       "       'out_prncp_inv', 'total_pymnt', 'total_pymnt_inv', 'total_rec_prncp',\n",
       "       'total_rec_int', 'total_rec_late_fee', 'recoveries',\n",
       "       'collection_recovery_fee', 'last_pymnt_d', 'last_pymnt_amnt',\n",
       "       'next_pymnt_d', 'last_credit_pull_d', 'collections_12_mths_ex_med',\n",
       "       'mths_since_last_major_derog', 'policy_code', 'application_type',\n",
       "       'total_il_high_credit_limit'],\n",
       "      dtype='object')"
      ]
     },
     "execution_count": 10,
     "metadata": {},
     "output_type": "execute_result"
    }
   ],
   "source": [
    "loan.columns"
   ]
  },
  {
   "cell_type": "code",
   "execution_count": 11,
   "id": "6e39d9d2",
   "metadata": {},
   "outputs": [],
   "source": [
    "# take those variables that are useful for our analysis\n",
    "\n",
    "df = loan[['id', 'member_id', 'loan_amnt', 'funded_amnt', 'funded_amnt_inv',\n",
    "       'term', 'int_rate', 'installment', 'grade', 'sub_grade','emp_length', 'home_ownership', 'annual_inc', 'verification_status', 'issue_d', 'loan_status','purpose','dti','total_rec_prncp']]"
   ]
  },
  {
   "cell_type": "code",
   "execution_count": 12,
   "id": "372cde9b",
   "metadata": {},
   "outputs": [
    {
     "data": {
      "text/html": [
       "<div>\n",
       "<style scoped>\n",
       "    .dataframe tbody tr th:only-of-type {\n",
       "        vertical-align: middle;\n",
       "    }\n",
       "\n",
       "    .dataframe tbody tr th {\n",
       "        vertical-align: top;\n",
       "    }\n",
       "\n",
       "    .dataframe thead th {\n",
       "        text-align: right;\n",
       "    }\n",
       "</style>\n",
       "<table border=\"1\" class=\"dataframe\">\n",
       "  <thead>\n",
       "    <tr style=\"text-align: right;\">\n",
       "      <th></th>\n",
       "      <th>id</th>\n",
       "      <th>member_id</th>\n",
       "      <th>loan_amnt</th>\n",
       "      <th>funded_amnt</th>\n",
       "      <th>funded_amnt_inv</th>\n",
       "      <th>term</th>\n",
       "      <th>int_rate</th>\n",
       "      <th>installment</th>\n",
       "      <th>grade</th>\n",
       "      <th>sub_grade</th>\n",
       "      <th>emp_length</th>\n",
       "      <th>home_ownership</th>\n",
       "      <th>annual_inc</th>\n",
       "      <th>verification_status</th>\n",
       "      <th>issue_d</th>\n",
       "      <th>loan_status</th>\n",
       "      <th>purpose</th>\n",
       "      <th>dti</th>\n",
       "      <th>total_rec_prncp</th>\n",
       "    </tr>\n",
       "  </thead>\n",
       "  <tbody>\n",
       "    <tr>\n",
       "      <th>0</th>\n",
       "      <td>1077501</td>\n",
       "      <td>1296599</td>\n",
       "      <td>5000</td>\n",
       "      <td>5000</td>\n",
       "      <td>4975.0</td>\n",
       "      <td>36 months</td>\n",
       "      <td>10.65%</td>\n",
       "      <td>162.87</td>\n",
       "      <td>B</td>\n",
       "      <td>B2</td>\n",
       "      <td>10+ years</td>\n",
       "      <td>RENT</td>\n",
       "      <td>24000.0</td>\n",
       "      <td>Verified</td>\n",
       "      <td>Dec-11</td>\n",
       "      <td>Fully Paid</td>\n",
       "      <td>credit_card</td>\n",
       "      <td>27.65</td>\n",
       "      <td>5000.00</td>\n",
       "    </tr>\n",
       "    <tr>\n",
       "      <th>1</th>\n",
       "      <td>1077430</td>\n",
       "      <td>1314167</td>\n",
       "      <td>2500</td>\n",
       "      <td>2500</td>\n",
       "      <td>2500.0</td>\n",
       "      <td>60 months</td>\n",
       "      <td>15.27%</td>\n",
       "      <td>59.83</td>\n",
       "      <td>C</td>\n",
       "      <td>C4</td>\n",
       "      <td>&lt; 1 year</td>\n",
       "      <td>RENT</td>\n",
       "      <td>30000.0</td>\n",
       "      <td>Source Verified</td>\n",
       "      <td>Dec-11</td>\n",
       "      <td>Charged Off</td>\n",
       "      <td>car</td>\n",
       "      <td>1.00</td>\n",
       "      <td>456.46</td>\n",
       "    </tr>\n",
       "    <tr>\n",
       "      <th>2</th>\n",
       "      <td>1077175</td>\n",
       "      <td>1313524</td>\n",
       "      <td>2400</td>\n",
       "      <td>2400</td>\n",
       "      <td>2400.0</td>\n",
       "      <td>36 months</td>\n",
       "      <td>15.96%</td>\n",
       "      <td>84.33</td>\n",
       "      <td>C</td>\n",
       "      <td>C5</td>\n",
       "      <td>10+ years</td>\n",
       "      <td>RENT</td>\n",
       "      <td>12252.0</td>\n",
       "      <td>Not Verified</td>\n",
       "      <td>Dec-11</td>\n",
       "      <td>Fully Paid</td>\n",
       "      <td>small_business</td>\n",
       "      <td>8.72</td>\n",
       "      <td>2400.00</td>\n",
       "    </tr>\n",
       "    <tr>\n",
       "      <th>3</th>\n",
       "      <td>1076863</td>\n",
       "      <td>1277178</td>\n",
       "      <td>10000</td>\n",
       "      <td>10000</td>\n",
       "      <td>10000.0</td>\n",
       "      <td>36 months</td>\n",
       "      <td>13.49%</td>\n",
       "      <td>339.31</td>\n",
       "      <td>C</td>\n",
       "      <td>C1</td>\n",
       "      <td>10+ years</td>\n",
       "      <td>RENT</td>\n",
       "      <td>49200.0</td>\n",
       "      <td>Source Verified</td>\n",
       "      <td>Dec-11</td>\n",
       "      <td>Fully Paid</td>\n",
       "      <td>other</td>\n",
       "      <td>20.00</td>\n",
       "      <td>10000.00</td>\n",
       "    </tr>\n",
       "    <tr>\n",
       "      <th>4</th>\n",
       "      <td>1075358</td>\n",
       "      <td>1311748</td>\n",
       "      <td>3000</td>\n",
       "      <td>3000</td>\n",
       "      <td>3000.0</td>\n",
       "      <td>60 months</td>\n",
       "      <td>12.69%</td>\n",
       "      <td>67.79</td>\n",
       "      <td>B</td>\n",
       "      <td>B5</td>\n",
       "      <td>1 year</td>\n",
       "      <td>RENT</td>\n",
       "      <td>80000.0</td>\n",
       "      <td>Source Verified</td>\n",
       "      <td>Dec-11</td>\n",
       "      <td>Current</td>\n",
       "      <td>other</td>\n",
       "      <td>17.94</td>\n",
       "      <td>2475.94</td>\n",
       "    </tr>\n",
       "  </tbody>\n",
       "</table>\n",
       "</div>"
      ],
      "text/plain": [
       "        id  member_id  loan_amnt  funded_amnt  funded_amnt_inv        term  \\\n",
       "0  1077501    1296599       5000         5000           4975.0   36 months   \n",
       "1  1077430    1314167       2500         2500           2500.0   60 months   \n",
       "2  1077175    1313524       2400         2400           2400.0   36 months   \n",
       "3  1076863    1277178      10000        10000          10000.0   36 months   \n",
       "4  1075358    1311748       3000         3000           3000.0   60 months   \n",
       "\n",
       "  int_rate  installment grade sub_grade emp_length home_ownership  annual_inc  \\\n",
       "0   10.65%       162.87     B        B2  10+ years           RENT     24000.0   \n",
       "1   15.27%        59.83     C        C4   < 1 year           RENT     30000.0   \n",
       "2   15.96%        84.33     C        C5  10+ years           RENT     12252.0   \n",
       "3   13.49%       339.31     C        C1  10+ years           RENT     49200.0   \n",
       "4   12.69%        67.79     B        B5     1 year           RENT     80000.0   \n",
       "\n",
       "  verification_status issue_d  loan_status         purpose    dti  \\\n",
       "0            Verified  Dec-11   Fully Paid     credit_card  27.65   \n",
       "1     Source Verified  Dec-11  Charged Off             car   1.00   \n",
       "2        Not Verified  Dec-11   Fully Paid  small_business   8.72   \n",
       "3     Source Verified  Dec-11   Fully Paid           other  20.00   \n",
       "4     Source Verified  Dec-11      Current           other  17.94   \n",
       "\n",
       "   total_rec_prncp  \n",
       "0          5000.00  \n",
       "1           456.46  \n",
       "2          2400.00  \n",
       "3         10000.00  \n",
       "4          2475.94  "
      ]
     },
     "execution_count": 12,
     "metadata": {},
     "output_type": "execute_result"
    }
   ],
   "source": [
    "df.head()"
   ]
  },
  {
   "cell_type": "code",
   "execution_count": 13,
   "id": "25fc8fa6",
   "metadata": {},
   "outputs": [
    {
     "name": "stdout",
     "output_type": "stream",
     "text": [
      "<class 'pandas.core.frame.DataFrame'>\n",
      "RangeIndex: 39717 entries, 0 to 39716\n",
      "Data columns (total 19 columns):\n",
      " #   Column               Non-Null Count  Dtype  \n",
      "---  ------               --------------  -----  \n",
      " 0   id                   39717 non-null  int64  \n",
      " 1   member_id            39717 non-null  int64  \n",
      " 2   loan_amnt            39717 non-null  int64  \n",
      " 3   funded_amnt          39717 non-null  int64  \n",
      " 4   funded_amnt_inv      39717 non-null  float64\n",
      " 5   term                 39717 non-null  object \n",
      " 6   int_rate             39717 non-null  object \n",
      " 7   installment          39717 non-null  float64\n",
      " 8   grade                39717 non-null  object \n",
      " 9   sub_grade            39717 non-null  object \n",
      " 10  emp_length           38642 non-null  object \n",
      " 11  home_ownership       39717 non-null  object \n",
      " 12  annual_inc           39717 non-null  float64\n",
      " 13  verification_status  39717 non-null  object \n",
      " 14  issue_d              39717 non-null  object \n",
      " 15  loan_status          39717 non-null  object \n",
      " 16  purpose              39717 non-null  object \n",
      " 17  dti                  39717 non-null  float64\n",
      " 18  total_rec_prncp      39717 non-null  float64\n",
      "dtypes: float64(5), int64(4), object(10)\n",
      "memory usage: 5.8+ MB\n"
     ]
    }
   ],
   "source": [
    "df.info()"
   ]
  },
  {
   "cell_type": "markdown",
   "id": "adfaa88b",
   "metadata": {},
   "source": [
    "Here we have target variable **loan status** and that needs to in binary form 0 and 1 where 1 is for default and 0 is for not default."
   ]
  },
  {
   "cell_type": "code",
   "execution_count": 14,
   "id": "8a707346",
   "metadata": {},
   "outputs": [
    {
     "data": {
      "text/plain": [
       "Fully Paid     32950\n",
       "Charged Off     5627\n",
       "Current         1140\n",
       "Name: loan_status, dtype: int64"
      ]
     },
     "execution_count": 14,
     "metadata": {},
     "output_type": "execute_result"
    }
   ],
   "source": [
    "# Check the categories of loan status and counts\n",
    "\n",
    "df['loan_status'] = df['loan_status'].astype ('category')\n",
    "df['loan_status'].value_counts()"
   ]
  },
  {
   "cell_type": "markdown",
   "id": "a725320b",
   "metadata": {},
   "source": [
    "As per above result target variable has three categories. current loans means they are currently in progress so this category is not useful for our analysis so lets filter this."
   ]
  },
  {
   "cell_type": "code",
   "execution_count": 15,
   "id": "b06fd58f",
   "metadata": {},
   "outputs": [
    {
     "data": {
      "text/plain": [
       "Fully Paid     32950\n",
       "Charged Off     5627\n",
       "Current            0\n",
       "Name: loan_status, dtype: int64"
      ]
     },
     "execution_count": 15,
     "metadata": {},
     "output_type": "execute_result"
    }
   ],
   "source": [
    "# filtering data\n",
    "\n",
    "df = df[df['loan_status'] != 'Current']\n",
    "\n",
    "df['loan_status'] = df['loan_status'].astype ('category')\n",
    "df['loan_status'].value_counts()"
   ]
  },
  {
   "cell_type": "code",
   "execution_count": 16,
   "id": "66d33eee",
   "metadata": {},
   "outputs": [
    {
     "data": {
      "text/plain": [
       "0    32950\n",
       "1     5627\n",
       "Name: loan_status, dtype: int64"
      ]
     },
     "execution_count": 16,
     "metadata": {},
     "output_type": "execute_result"
    }
   ],
   "source": [
    "# lets convert it into binary for 0 and 1\n",
    "\n",
    "df['loan_status'] = df['loan_status'].apply(lambda x: 0 if x =='Fully Paid' else 1)\n",
    "df['loan_status'].value_counts()"
   ]
  },
  {
   "cell_type": "code",
   "execution_count": 17,
   "id": "83906235",
   "metadata": {},
   "outputs": [
    {
     "name": "stdout",
     "output_type": "stream",
     "text": [
      "<class 'pandas.core.frame.DataFrame'>\n",
      "Int64Index: 38577 entries, 0 to 39716\n",
      "Data columns (total 19 columns):\n",
      " #   Column               Non-Null Count  Dtype  \n",
      "---  ------               --------------  -----  \n",
      " 0   id                   38577 non-null  int64  \n",
      " 1   member_id            38577 non-null  int64  \n",
      " 2   loan_amnt            38577 non-null  int64  \n",
      " 3   funded_amnt          38577 non-null  int64  \n",
      " 4   funded_amnt_inv      38577 non-null  float64\n",
      " 5   term                 38577 non-null  object \n",
      " 6   int_rate             38577 non-null  object \n",
      " 7   installment          38577 non-null  float64\n",
      " 8   grade                38577 non-null  object \n",
      " 9   sub_grade            38577 non-null  object \n",
      " 10  emp_length           37544 non-null  object \n",
      " 11  home_ownership       38577 non-null  object \n",
      " 12  annual_inc           38577 non-null  float64\n",
      " 13  verification_status  38577 non-null  object \n",
      " 14  issue_d              38577 non-null  object \n",
      " 15  loan_status          38577 non-null  int64  \n",
      " 16  purpose              38577 non-null  object \n",
      " 17  dti                  38577 non-null  float64\n",
      " 18  total_rec_prncp      38577 non-null  float64\n",
      "dtypes: float64(5), int64(5), object(9)\n",
      "memory usage: 5.9+ MB\n"
     ]
    }
   ],
   "source": [
    "df.info()"
   ]
  },
  {
   "cell_type": "code",
   "execution_count": 18,
   "id": "154582d2",
   "metadata": {},
   "outputs": [
    {
     "data": {
      "text/html": [
       "<div>\n",
       "<style scoped>\n",
       "    .dataframe tbody tr th:only-of-type {\n",
       "        vertical-align: middle;\n",
       "    }\n",
       "\n",
       "    .dataframe tbody tr th {\n",
       "        vertical-align: top;\n",
       "    }\n",
       "\n",
       "    .dataframe thead th {\n",
       "        text-align: right;\n",
       "    }\n",
       "</style>\n",
       "<table border=\"1\" class=\"dataframe\">\n",
       "  <thead>\n",
       "    <tr style=\"text-align: right;\">\n",
       "      <th></th>\n",
       "      <th>id</th>\n",
       "      <th>member_id</th>\n",
       "      <th>loan_amnt</th>\n",
       "      <th>funded_amnt</th>\n",
       "      <th>funded_amnt_inv</th>\n",
       "      <th>term</th>\n",
       "      <th>int_rate</th>\n",
       "      <th>installment</th>\n",
       "      <th>grade</th>\n",
       "      <th>sub_grade</th>\n",
       "      <th>emp_length</th>\n",
       "      <th>home_ownership</th>\n",
       "      <th>annual_inc</th>\n",
       "      <th>verification_status</th>\n",
       "      <th>issue_d</th>\n",
       "      <th>loan_status</th>\n",
       "      <th>purpose</th>\n",
       "      <th>dti</th>\n",
       "      <th>total_rec_prncp</th>\n",
       "    </tr>\n",
       "  </thead>\n",
       "  <tbody>\n",
       "    <tr>\n",
       "      <th>0</th>\n",
       "      <td>1077501</td>\n",
       "      <td>1296599</td>\n",
       "      <td>5000</td>\n",
       "      <td>5000</td>\n",
       "      <td>4975.0</td>\n",
       "      <td>36 months</td>\n",
       "      <td>10.65%</td>\n",
       "      <td>162.87</td>\n",
       "      <td>B</td>\n",
       "      <td>B2</td>\n",
       "      <td>10+ years</td>\n",
       "      <td>RENT</td>\n",
       "      <td>24000.0</td>\n",
       "      <td>Verified</td>\n",
       "      <td>Dec-11</td>\n",
       "      <td>0</td>\n",
       "      <td>credit_card</td>\n",
       "      <td>27.65</td>\n",
       "      <td>5000.00</td>\n",
       "    </tr>\n",
       "    <tr>\n",
       "      <th>1</th>\n",
       "      <td>1077430</td>\n",
       "      <td>1314167</td>\n",
       "      <td>2500</td>\n",
       "      <td>2500</td>\n",
       "      <td>2500.0</td>\n",
       "      <td>60 months</td>\n",
       "      <td>15.27%</td>\n",
       "      <td>59.83</td>\n",
       "      <td>C</td>\n",
       "      <td>C4</td>\n",
       "      <td>&lt; 1 year</td>\n",
       "      <td>RENT</td>\n",
       "      <td>30000.0</td>\n",
       "      <td>Source Verified</td>\n",
       "      <td>Dec-11</td>\n",
       "      <td>1</td>\n",
       "      <td>car</td>\n",
       "      <td>1.00</td>\n",
       "      <td>456.46</td>\n",
       "    </tr>\n",
       "    <tr>\n",
       "      <th>2</th>\n",
       "      <td>1077175</td>\n",
       "      <td>1313524</td>\n",
       "      <td>2400</td>\n",
       "      <td>2400</td>\n",
       "      <td>2400.0</td>\n",
       "      <td>36 months</td>\n",
       "      <td>15.96%</td>\n",
       "      <td>84.33</td>\n",
       "      <td>C</td>\n",
       "      <td>C5</td>\n",
       "      <td>10+ years</td>\n",
       "      <td>RENT</td>\n",
       "      <td>12252.0</td>\n",
       "      <td>Not Verified</td>\n",
       "      <td>Dec-11</td>\n",
       "      <td>0</td>\n",
       "      <td>small_business</td>\n",
       "      <td>8.72</td>\n",
       "      <td>2400.00</td>\n",
       "    </tr>\n",
       "    <tr>\n",
       "      <th>3</th>\n",
       "      <td>1076863</td>\n",
       "      <td>1277178</td>\n",
       "      <td>10000</td>\n",
       "      <td>10000</td>\n",
       "      <td>10000.0</td>\n",
       "      <td>36 months</td>\n",
       "      <td>13.49%</td>\n",
       "      <td>339.31</td>\n",
       "      <td>C</td>\n",
       "      <td>C1</td>\n",
       "      <td>10+ years</td>\n",
       "      <td>RENT</td>\n",
       "      <td>49200.0</td>\n",
       "      <td>Source Verified</td>\n",
       "      <td>Dec-11</td>\n",
       "      <td>0</td>\n",
       "      <td>other</td>\n",
       "      <td>20.00</td>\n",
       "      <td>10000.00</td>\n",
       "    </tr>\n",
       "    <tr>\n",
       "      <th>5</th>\n",
       "      <td>1075269</td>\n",
       "      <td>1311441</td>\n",
       "      <td>5000</td>\n",
       "      <td>5000</td>\n",
       "      <td>5000.0</td>\n",
       "      <td>36 months</td>\n",
       "      <td>7.90%</td>\n",
       "      <td>156.46</td>\n",
       "      <td>A</td>\n",
       "      <td>A4</td>\n",
       "      <td>3 years</td>\n",
       "      <td>RENT</td>\n",
       "      <td>36000.0</td>\n",
       "      <td>Source Verified</td>\n",
       "      <td>Dec-11</td>\n",
       "      <td>0</td>\n",
       "      <td>wedding</td>\n",
       "      <td>11.20</td>\n",
       "      <td>5000.00</td>\n",
       "    </tr>\n",
       "  </tbody>\n",
       "</table>\n",
       "</div>"
      ],
      "text/plain": [
       "        id  member_id  loan_amnt  funded_amnt  funded_amnt_inv        term  \\\n",
       "0  1077501    1296599       5000         5000           4975.0   36 months   \n",
       "1  1077430    1314167       2500         2500           2500.0   60 months   \n",
       "2  1077175    1313524       2400         2400           2400.0   36 months   \n",
       "3  1076863    1277178      10000        10000          10000.0   36 months   \n",
       "5  1075269    1311441       5000         5000           5000.0   36 months   \n",
       "\n",
       "  int_rate  installment grade sub_grade emp_length home_ownership  annual_inc  \\\n",
       "0   10.65%       162.87     B        B2  10+ years           RENT     24000.0   \n",
       "1   15.27%        59.83     C        C4   < 1 year           RENT     30000.0   \n",
       "2   15.96%        84.33     C        C5  10+ years           RENT     12252.0   \n",
       "3   13.49%       339.31     C        C1  10+ years           RENT     49200.0   \n",
       "5    7.90%       156.46     A        A4    3 years           RENT     36000.0   \n",
       "\n",
       "  verification_status issue_d  loan_status         purpose    dti  \\\n",
       "0            Verified  Dec-11            0     credit_card  27.65   \n",
       "1     Source Verified  Dec-11            1             car   1.00   \n",
       "2        Not Verified  Dec-11            0  small_business   8.72   \n",
       "3     Source Verified  Dec-11            0           other  20.00   \n",
       "5     Source Verified  Dec-11            0         wedding  11.20   \n",
       "\n",
       "   total_rec_prncp  \n",
       "0          5000.00  \n",
       "1           456.46  \n",
       "2          2400.00  \n",
       "3         10000.00  \n",
       "5          5000.00  "
      ]
     },
     "execution_count": 18,
     "metadata": {},
     "output_type": "execute_result"
    }
   ],
   "source": [
    "df.head()"
   ]
  },
  {
   "cell_type": "code",
   "execution_count": 19,
   "id": "6724bb0d",
   "metadata": {
    "scrolled": true
   },
   "outputs": [
    {
     "name": "stdout",
     "output_type": "stream",
     "text": [
      "<class 'pandas.core.frame.DataFrame'>\n",
      "Int64Index: 38577 entries, 0 to 39716\n",
      "Data columns (total 19 columns):\n",
      " #   Column               Non-Null Count  Dtype  \n",
      "---  ------               --------------  -----  \n",
      " 0   id                   38577 non-null  int64  \n",
      " 1   member_id            38577 non-null  int64  \n",
      " 2   loan_amnt            38577 non-null  int64  \n",
      " 3   funded_amnt          38577 non-null  int64  \n",
      " 4   funded_amnt_inv      38577 non-null  float64\n",
      " 5   term                 38577 non-null  object \n",
      " 6   int_rate             38577 non-null  object \n",
      " 7   installment          38577 non-null  float64\n",
      " 8   grade                38577 non-null  object \n",
      " 9   sub_grade            38577 non-null  object \n",
      " 10  emp_length           37544 non-null  object \n",
      " 11  home_ownership       38577 non-null  object \n",
      " 12  annual_inc           38577 non-null  float64\n",
      " 13  verification_status  38577 non-null  object \n",
      " 14  issue_d              38577 non-null  object \n",
      " 15  loan_status          38577 non-null  int64  \n",
      " 16  purpose              38577 non-null  object \n",
      " 17  dti                  38577 non-null  float64\n",
      " 18  total_rec_prncp      38577 non-null  float64\n",
      "dtypes: float64(5), int64(5), object(9)\n",
      "memory usage: 5.9+ MB\n"
     ]
    }
   ],
   "source": [
    "# variable int_rate is object type.\n",
    "# convbert it into float\n",
    "\n",
    "df['loan_status'] = df['loan_status'].apply(lambda x: pd.to_numeric(x))\n",
    "\n",
    "df.info()"
   ]
  },
  {
   "cell_type": "code",
   "execution_count": 20,
   "id": "67114114",
   "metadata": {},
   "outputs": [
    {
     "name": "stdout",
     "output_type": "stream",
     "text": [
      "<class 'pandas.core.frame.DataFrame'>\n",
      "Int64Index: 38577 entries, 0 to 39716\n",
      "Data columns (total 19 columns):\n",
      " #   Column               Non-Null Count  Dtype  \n",
      "---  ------               --------------  -----  \n",
      " 0   id                   38577 non-null  int64  \n",
      " 1   member_id            38577 non-null  int64  \n",
      " 2   loan_amnt            38577 non-null  int64  \n",
      " 3   funded_amnt          38577 non-null  int64  \n",
      " 4   funded_amnt_inv      38577 non-null  float64\n",
      " 5   term                 38577 non-null  object \n",
      " 6   int_rate             38577 non-null  float64\n",
      " 7   installment          38577 non-null  float64\n",
      " 8   grade                38577 non-null  object \n",
      " 9   sub_grade            38577 non-null  object \n",
      " 10  emp_length           37544 non-null  object \n",
      " 11  home_ownership       38577 non-null  object \n",
      " 12  annual_inc           38577 non-null  float64\n",
      " 13  verification_status  38577 non-null  object \n",
      " 14  issue_d              38577 non-null  object \n",
      " 15  loan_status          38577 non-null  int64  \n",
      " 16  purpose              38577 non-null  object \n",
      " 17  dti                  38577 non-null  float64\n",
      " 18  total_rec_prncp      38577 non-null  float64\n",
      "dtypes: float64(6), int64(5), object(8)\n",
      "memory usage: 5.9+ MB\n"
     ]
    }
   ],
   "source": [
    "df['int_rate']= df['int_rate'].apply(lambda x: pd.to_numeric(x.split(\"%\")[0]))\n",
    "df.info()"
   ]
  },
  {
   "cell_type": "code",
   "execution_count": 21,
   "id": "db369fd7",
   "metadata": {
    "scrolled": true
   },
   "outputs": [
    {
     "name": "stdout",
     "output_type": "stream",
     "text": [
      "<class 'pandas.core.frame.DataFrame'>\n",
      "Int64Index: 37544 entries, 0 to 39716\n",
      "Data columns (total 19 columns):\n",
      " #   Column               Non-Null Count  Dtype  \n",
      "---  ------               --------------  -----  \n",
      " 0   id                   37544 non-null  int64  \n",
      " 1   member_id            37544 non-null  int64  \n",
      " 2   loan_amnt            37544 non-null  int64  \n",
      " 3   funded_amnt          37544 non-null  int64  \n",
      " 4   funded_amnt_inv      37544 non-null  float64\n",
      " 5   term                 37544 non-null  object \n",
      " 6   int_rate             37544 non-null  float64\n",
      " 7   installment          37544 non-null  float64\n",
      " 8   grade                37544 non-null  object \n",
      " 9   sub_grade            37544 non-null  object \n",
      " 10  emp_length           37544 non-null  int64  \n",
      " 11  home_ownership       37544 non-null  object \n",
      " 12  annual_inc           37544 non-null  float64\n",
      " 13  verification_status  37544 non-null  object \n",
      " 14  issue_d              37544 non-null  object \n",
      " 15  loan_status          37544 non-null  int64  \n",
      " 16  purpose              37544 non-null  object \n",
      " 17  dti                  37544 non-null  float64\n",
      " 18  total_rec_prncp      37544 non-null  float64\n",
      "dtypes: float64(6), int64(6), object(7)\n",
      "memory usage: 5.7+ MB\n"
     ]
    }
   ],
   "source": [
    "# extract the numeric value of emp_length variable\n",
    "\n",
    "# remove the rows with null values \n",
    "\n",
    "df = df [~df['emp_length'].isnull()]\n",
    "\n",
    "import re\n",
    "df['emp_length'] = df['emp_length'].apply(lambda x: re.findall('\\d+', str(x))[0])\n",
    "\n",
    "\n",
    "df['emp_length'] = df['emp_length'].apply(lambda x: pd.to_numeric(x))\n",
    "\n",
    "df.info()"
   ]
  },
  {
   "cell_type": "code",
   "execution_count": 22,
   "id": "756a27c8",
   "metadata": {},
   "outputs": [],
   "source": [
    "# issue_d is in Month year format\n",
    "\n",
    "from datetime import datetime\n",
    "df['issue_d'] = df['issue_d'].apply(lambda x : datetime.strptime(x,'%b-%y'))\n",
    "\n",
    "# Extract month and year\n",
    "\n",
    "df['month'] = df['issue_d'].apply(lambda x : x.month)\n",
    "df['year'] = df['issue_d'].apply(lambda x : x.year)"
   ]
  },
  {
   "cell_type": "code",
   "execution_count": 23,
   "id": "8b224332",
   "metadata": {},
   "outputs": [
    {
     "data": {
      "text/html": [
       "<div>\n",
       "<style scoped>\n",
       "    .dataframe tbody tr th:only-of-type {\n",
       "        vertical-align: middle;\n",
       "    }\n",
       "\n",
       "    .dataframe tbody tr th {\n",
       "        vertical-align: top;\n",
       "    }\n",
       "\n",
       "    .dataframe thead th {\n",
       "        text-align: right;\n",
       "    }\n",
       "</style>\n",
       "<table border=\"1\" class=\"dataframe\">\n",
       "  <thead>\n",
       "    <tr style=\"text-align: right;\">\n",
       "      <th></th>\n",
       "      <th>id</th>\n",
       "      <th>member_id</th>\n",
       "      <th>loan_amnt</th>\n",
       "      <th>funded_amnt</th>\n",
       "      <th>funded_amnt_inv</th>\n",
       "      <th>term</th>\n",
       "      <th>int_rate</th>\n",
       "      <th>installment</th>\n",
       "      <th>grade</th>\n",
       "      <th>sub_grade</th>\n",
       "      <th>...</th>\n",
       "      <th>home_ownership</th>\n",
       "      <th>annual_inc</th>\n",
       "      <th>verification_status</th>\n",
       "      <th>issue_d</th>\n",
       "      <th>loan_status</th>\n",
       "      <th>purpose</th>\n",
       "      <th>dti</th>\n",
       "      <th>total_rec_prncp</th>\n",
       "      <th>month</th>\n",
       "      <th>year</th>\n",
       "    </tr>\n",
       "  </thead>\n",
       "  <tbody>\n",
       "    <tr>\n",
       "      <th>0</th>\n",
       "      <td>1077501</td>\n",
       "      <td>1296599</td>\n",
       "      <td>5000</td>\n",
       "      <td>5000</td>\n",
       "      <td>4975.0</td>\n",
       "      <td>36 months</td>\n",
       "      <td>10.65</td>\n",
       "      <td>162.87</td>\n",
       "      <td>B</td>\n",
       "      <td>B2</td>\n",
       "      <td>...</td>\n",
       "      <td>RENT</td>\n",
       "      <td>24000.0</td>\n",
       "      <td>Verified</td>\n",
       "      <td>2011-12-01</td>\n",
       "      <td>0</td>\n",
       "      <td>credit_card</td>\n",
       "      <td>27.65</td>\n",
       "      <td>5000.00</td>\n",
       "      <td>12</td>\n",
       "      <td>2011</td>\n",
       "    </tr>\n",
       "    <tr>\n",
       "      <th>1</th>\n",
       "      <td>1077430</td>\n",
       "      <td>1314167</td>\n",
       "      <td>2500</td>\n",
       "      <td>2500</td>\n",
       "      <td>2500.0</td>\n",
       "      <td>60 months</td>\n",
       "      <td>15.27</td>\n",
       "      <td>59.83</td>\n",
       "      <td>C</td>\n",
       "      <td>C4</td>\n",
       "      <td>...</td>\n",
       "      <td>RENT</td>\n",
       "      <td>30000.0</td>\n",
       "      <td>Source Verified</td>\n",
       "      <td>2011-12-01</td>\n",
       "      <td>1</td>\n",
       "      <td>car</td>\n",
       "      <td>1.00</td>\n",
       "      <td>456.46</td>\n",
       "      <td>12</td>\n",
       "      <td>2011</td>\n",
       "    </tr>\n",
       "    <tr>\n",
       "      <th>2</th>\n",
       "      <td>1077175</td>\n",
       "      <td>1313524</td>\n",
       "      <td>2400</td>\n",
       "      <td>2400</td>\n",
       "      <td>2400.0</td>\n",
       "      <td>36 months</td>\n",
       "      <td>15.96</td>\n",
       "      <td>84.33</td>\n",
       "      <td>C</td>\n",
       "      <td>C5</td>\n",
       "      <td>...</td>\n",
       "      <td>RENT</td>\n",
       "      <td>12252.0</td>\n",
       "      <td>Not Verified</td>\n",
       "      <td>2011-12-01</td>\n",
       "      <td>0</td>\n",
       "      <td>small_business</td>\n",
       "      <td>8.72</td>\n",
       "      <td>2400.00</td>\n",
       "      <td>12</td>\n",
       "      <td>2011</td>\n",
       "    </tr>\n",
       "    <tr>\n",
       "      <th>3</th>\n",
       "      <td>1076863</td>\n",
       "      <td>1277178</td>\n",
       "      <td>10000</td>\n",
       "      <td>10000</td>\n",
       "      <td>10000.0</td>\n",
       "      <td>36 months</td>\n",
       "      <td>13.49</td>\n",
       "      <td>339.31</td>\n",
       "      <td>C</td>\n",
       "      <td>C1</td>\n",
       "      <td>...</td>\n",
       "      <td>RENT</td>\n",
       "      <td>49200.0</td>\n",
       "      <td>Source Verified</td>\n",
       "      <td>2011-12-01</td>\n",
       "      <td>0</td>\n",
       "      <td>other</td>\n",
       "      <td>20.00</td>\n",
       "      <td>10000.00</td>\n",
       "      <td>12</td>\n",
       "      <td>2011</td>\n",
       "    </tr>\n",
       "    <tr>\n",
       "      <th>5</th>\n",
       "      <td>1075269</td>\n",
       "      <td>1311441</td>\n",
       "      <td>5000</td>\n",
       "      <td>5000</td>\n",
       "      <td>5000.0</td>\n",
       "      <td>36 months</td>\n",
       "      <td>7.90</td>\n",
       "      <td>156.46</td>\n",
       "      <td>A</td>\n",
       "      <td>A4</td>\n",
       "      <td>...</td>\n",
       "      <td>RENT</td>\n",
       "      <td>36000.0</td>\n",
       "      <td>Source Verified</td>\n",
       "      <td>2011-12-01</td>\n",
       "      <td>0</td>\n",
       "      <td>wedding</td>\n",
       "      <td>11.20</td>\n",
       "      <td>5000.00</td>\n",
       "      <td>12</td>\n",
       "      <td>2011</td>\n",
       "    </tr>\n",
       "  </tbody>\n",
       "</table>\n",
       "<p>5 rows × 21 columns</p>\n",
       "</div>"
      ],
      "text/plain": [
       "        id  member_id  loan_amnt  funded_amnt  funded_amnt_inv        term  \\\n",
       "0  1077501    1296599       5000         5000           4975.0   36 months   \n",
       "1  1077430    1314167       2500         2500           2500.0   60 months   \n",
       "2  1077175    1313524       2400         2400           2400.0   36 months   \n",
       "3  1076863    1277178      10000        10000          10000.0   36 months   \n",
       "5  1075269    1311441       5000         5000           5000.0   36 months   \n",
       "\n",
       "   int_rate  installment grade sub_grade  ...  home_ownership annual_inc  \\\n",
       "0     10.65       162.87     B        B2  ...            RENT    24000.0   \n",
       "1     15.27        59.83     C        C4  ...            RENT    30000.0   \n",
       "2     15.96        84.33     C        C5  ...            RENT    12252.0   \n",
       "3     13.49       339.31     C        C1  ...            RENT    49200.0   \n",
       "5      7.90       156.46     A        A4  ...            RENT    36000.0   \n",
       "\n",
       "   verification_status    issue_d loan_status         purpose    dti  \\\n",
       "0             Verified 2011-12-01           0     credit_card  27.65   \n",
       "1      Source Verified 2011-12-01           1             car   1.00   \n",
       "2         Not Verified 2011-12-01           0  small_business   8.72   \n",
       "3      Source Verified 2011-12-01           0           other  20.00   \n",
       "5      Source Verified 2011-12-01           0         wedding  11.20   \n",
       "\n",
       "   total_rec_prncp  month  year  \n",
       "0          5000.00     12  2011  \n",
       "1           456.46     12  2011  \n",
       "2          2400.00     12  2011  \n",
       "3         10000.00     12  2011  \n",
       "5          5000.00     12  2011  \n",
       "\n",
       "[5 rows x 21 columns]"
      ]
     },
     "execution_count": 23,
     "metadata": {},
     "output_type": "execute_result"
    }
   ],
   "source": [
    "df.head()"
   ]
  },
  {
   "cell_type": "markdown",
   "id": "5552c848",
   "metadata": {},
   "source": [
    "### Univariate Analysis"
   ]
  },
  {
   "cell_type": "code",
   "execution_count": 24,
   "id": "f61497f6",
   "metadata": {},
   "outputs": [
    {
     "data": {
      "text/plain": [
       "2"
      ]
     },
     "execution_count": 24,
     "metadata": {},
     "output_type": "execute_result"
    }
   ],
   "source": [
    "# unique values of term column\n",
    "\n",
    "df.term.nunique()"
   ]
  },
  {
   "cell_type": "code",
   "execution_count": 25,
   "id": "79400ac9",
   "metadata": {
    "scrolled": true
   },
   "outputs": [
    {
     "data": {
      "image/png": "[encoded data removed]",
      "text/plain": [
       "<Figure size 576x432 with 1 Axes>"
      ]
     },
     "metadata": {
      "needs_background": "light"
     },
     "output_type": "display_data"
    }
   ],
   "source": [
    "# Visualize the distribution of loan term\n",
    "\n",
    "plt.figure(figsize=(8,6))\n",
    "sns.barplot(x = 'term', y = 'loan_status',data = df)\n",
    "plt.show()"
   ]
  },
  {
   "cell_type": "markdown",
   "id": "7b37eb30",
   "metadata": {},
   "source": [
    "- 5 year term loans tend to have higher defaulters"
   ]
  },
  {
   "cell_type": "code",
   "execution_count": 59,
   "id": "456ceffb",
   "metadata": {},
   "outputs": [
    {
     "data": {
      "text/plain": [
       "0.14380460259961644"
      ]
     },
     "execution_count": 59,
     "metadata": {},
     "output_type": "execute_result"
    }
   ],
   "source": [
    "# Find total default rate\n",
    "\n",
    "np.mean(df['loan_status'])"
   ]
  },
  {
   "cell_type": "code",
   "execution_count": 26,
   "id": "6e49e365",
   "metadata": {},
   "outputs": [
    {
     "data": {
      "text/plain": [
       "14"
      ]
     },
     "execution_count": 26,
     "metadata": {},
     "output_type": "execute_result"
    }
   ],
   "source": [
    "# unique values of purpose column\n",
    "\n",
    "df.purpose.nunique()"
   ]
  },
  {
   "cell_type": "code",
   "execution_count": 27,
   "id": "17870898",
   "metadata": {},
   "outputs": [
    {
     "data": {
      "image/png": "[encoded data removed]",
      "text/plain": [
       "<Figure size 1152x576 with 1 Axes>"
      ]
     },
     "metadata": {
      "needs_background": "light"
     },
     "output_type": "display_data"
    }
   ],
   "source": [
    "# visualize the types of loans\n",
    "\n",
    "plt.figure(figsize=(16,8))\n",
    "sns.countplot(x = 'purpose' ,data = df)\n",
    "plt.show()"
   ]
  },
  {
   "cell_type": "code",
   "execution_count": 28,
   "id": "a0f649b4",
   "metadata": {},
   "outputs": [
    {
     "data": {
      "image/png": "[encoded data removed]",
      "text/plain": [
       "<Figure size 1152x576 with 1 Axes>"
      ]
     },
     "metadata": {
      "needs_background": "light"
     },
     "output_type": "display_data"
    }
   ],
   "source": [
    "\n",
    "plt.figure(figsize=(16,8))\n",
    "\n",
    "sns.barplot(x = 'purpose',y = 'loan_status' ,data = df)\n",
    "plt.show()"
   ]
  },
  {
   "cell_type": "markdown",
   "id": "5dbeaef6",
   "metadata": {},
   "source": [
    "1.Most of the loans are taken for consolidation purpose.\n",
    "\n",
    "2.Top 5 purpose for loans which default are \n",
    "\n",
    "i) Small business\n",
    "\n",
    "ii) Renewable energy\n",
    "\n",
    "iii) Educational\n",
    "\n",
    "iv) House\n",
    "\n",
    "v) other"
   ]
  },
  {
   "cell_type": "code",
   "execution_count": 29,
   "id": "99a5aaa8",
   "metadata": {},
   "outputs": [
    {
     "data": {
      "image/png": "[encoded data removed]",
      "text/plain": [
       "<Figure size 720x576 with 1 Axes>"
      ]
     },
     "metadata": {
      "needs_background": "light"
     },
     "output_type": "display_data"
    }
   ],
   "source": [
    "plt.figure(figsize = (10,8))\n",
    "\n",
    "sns.countplot(x = 'year', data = df ,hue = 'loan_status')\n",
    "\n",
    "plt.show()"
   ]
  },
  {
   "cell_type": "markdown",
   "id": "6568eeb4",
   "metadata": {},
   "source": [
    "- number of defualts has increased exponentially from 2007 to 2011"
   ]
  },
  {
   "cell_type": "code",
   "execution_count": 30,
   "id": "7153653e",
   "metadata": {},
   "outputs": [
    {
     "data": {
      "image/png": "[encoded data removed]",
      "text/plain": [
       "<Figure size 720x576 with 1 Axes>"
      ]
     },
     "metadata": {
      "needs_background": "light"
     },
     "output_type": "display_data"
    }
   ],
   "source": [
    "plt.figure(figsize = (10,8))\n",
    "\n",
    "sns.barplot(x = 'month', y = 'loan_status', data = df)\n",
    "\n",
    "plt.show()"
   ]
  },
  {
   "cell_type": "markdown",
   "id": "b9eb8322",
   "metadata": {},
   "source": [
    "- last quater of the year has a higher chances of default."
   ]
  },
  {
   "cell_type": "code",
   "execution_count": 31,
   "id": "dd1d6a93",
   "metadata": {},
   "outputs": [
    {
     "data": {
      "image/png": "[encoded data removed]",
      "text/plain": [
       "<Figure size 1152x720 with 4 Axes>"
      ]
     },
     "metadata": {
      "needs_background": "light"
     },
     "output_type": "display_data"
    }
   ],
   "source": [
    "fig, ax = plt.subplots(2,2,figsize = (16,10))\n",
    "\n",
    "sns.countplot(x = 'grade', data = df, ax = ax[0,0])\n",
    "\n",
    "sns.barplot(x = 'grade', y = 'loan_status', data = df, ax = ax[0,1])\n",
    "\n",
    "sns.countplot(x = 'sub_grade', data = df,ax = ax[1,0])\n",
    "\n",
    "sns.barplot(x = 'sub_grade', y = 'loan_status', data = df, ax = ax[1,1])\n",
    "\n",
    "plt.show()"
   ]
  },
  {
   "cell_type": "markdown",
   "id": "97033338",
   "metadata": {},
   "source": [
    "1.most of loans are grades as A , B and C.\n",
    "\n",
    "2.lower grades of loans has higher chances of getting default and also for subgrades."
   ]
  },
  {
   "cell_type": "code",
   "execution_count": 32,
   "id": "379af0e4",
   "metadata": {},
   "outputs": [
    {
     "data": {
      "image/png": "[encoded data removed]",
      "text/plain": [
       "<Figure size 720x576 with 1 Axes>"
      ]
     },
     "metadata": {
      "needs_background": "light"
     },
     "output_type": "display_data"
    }
   ],
   "source": [
    "plt.figure(figsize = (10,8))\n",
    "\n",
    "sns.barplot(x = 'home_ownership', y = 'loan_status', data = df)\n",
    "\n",
    "plt.show()"
   ]
  },
  {
   "cell_type": "code",
   "execution_count": 33,
   "id": "0529ec35",
   "metadata": {},
   "outputs": [
    {
     "data": {
      "image/png": "[encoded data removed]",
      "text/plain": [
       "<Figure size 576x288 with 1 Axes>"
      ]
     },
     "metadata": {
      "needs_background": "light"
     },
     "output_type": "display_data"
    }
   ],
   "source": [
    "# lets check verification status affects loan status.\n",
    "plt.figure(figsize = (8,4))\n",
    "\n",
    "sns.barplot(x = 'verification_status', y = 'loan_status', data = df)\n",
    "\n",
    "plt.show()\n"
   ]
  },
  {
   "cell_type": "markdown",
   "id": "ddaf8ab6",
   "metadata": {},
   "source": [
    "- As You can see from above verified loan has higher chances of getting default."
   ]
  },
  {
   "cell_type": "code",
   "execution_count": 34,
   "id": "f22627de",
   "metadata": {},
   "outputs": [
    {
     "data": {
      "text/html": [
       "<div>\n",
       "<style scoped>\n",
       "    .dataframe tbody tr th:only-of-type {\n",
       "        vertical-align: middle;\n",
       "    }\n",
       "\n",
       "    .dataframe tbody tr th {\n",
       "        vertical-align: top;\n",
       "    }\n",
       "\n",
       "    .dataframe thead th {\n",
       "        text-align: right;\n",
       "    }\n",
       "</style>\n",
       "<table border=\"1\" class=\"dataframe\">\n",
       "  <thead>\n",
       "    <tr style=\"text-align: right;\">\n",
       "      <th></th>\n",
       "      <th>id</th>\n",
       "      <th>member_id</th>\n",
       "      <th>loan_amnt</th>\n",
       "      <th>funded_amnt</th>\n",
       "      <th>funded_amnt_inv</th>\n",
       "      <th>term</th>\n",
       "      <th>int_rate</th>\n",
       "      <th>installment</th>\n",
       "      <th>grade</th>\n",
       "      <th>sub_grade</th>\n",
       "      <th>...</th>\n",
       "      <th>home_ownership</th>\n",
       "      <th>annual_inc</th>\n",
       "      <th>verification_status</th>\n",
       "      <th>issue_d</th>\n",
       "      <th>loan_status</th>\n",
       "      <th>purpose</th>\n",
       "      <th>dti</th>\n",
       "      <th>total_rec_prncp</th>\n",
       "      <th>month</th>\n",
       "      <th>year</th>\n",
       "    </tr>\n",
       "  </thead>\n",
       "  <tbody>\n",
       "    <tr>\n",
       "      <th>0</th>\n",
       "      <td>1077501</td>\n",
       "      <td>1296599</td>\n",
       "      <td>5000</td>\n",
       "      <td>5000</td>\n",
       "      <td>4975.0</td>\n",
       "      <td>36 months</td>\n",
       "      <td>10.65</td>\n",
       "      <td>162.87</td>\n",
       "      <td>B</td>\n",
       "      <td>B2</td>\n",
       "      <td>...</td>\n",
       "      <td>RENT</td>\n",
       "      <td>24000.0</td>\n",
       "      <td>Verified</td>\n",
       "      <td>2011-12-01</td>\n",
       "      <td>0</td>\n",
       "      <td>credit_card</td>\n",
       "      <td>27.65</td>\n",
       "      <td>5000.00</td>\n",
       "      <td>12</td>\n",
       "      <td>2011</td>\n",
       "    </tr>\n",
       "    <tr>\n",
       "      <th>1</th>\n",
       "      <td>1077430</td>\n",
       "      <td>1314167</td>\n",
       "      <td>2500</td>\n",
       "      <td>2500</td>\n",
       "      <td>2500.0</td>\n",
       "      <td>60 months</td>\n",
       "      <td>15.27</td>\n",
       "      <td>59.83</td>\n",
       "      <td>C</td>\n",
       "      <td>C4</td>\n",
       "      <td>...</td>\n",
       "      <td>RENT</td>\n",
       "      <td>30000.0</td>\n",
       "      <td>Source Verified</td>\n",
       "      <td>2011-12-01</td>\n",
       "      <td>1</td>\n",
       "      <td>car</td>\n",
       "      <td>1.00</td>\n",
       "      <td>456.46</td>\n",
       "      <td>12</td>\n",
       "      <td>2011</td>\n",
       "    </tr>\n",
       "    <tr>\n",
       "      <th>2</th>\n",
       "      <td>1077175</td>\n",
       "      <td>1313524</td>\n",
       "      <td>2400</td>\n",
       "      <td>2400</td>\n",
       "      <td>2400.0</td>\n",
       "      <td>36 months</td>\n",
       "      <td>15.96</td>\n",
       "      <td>84.33</td>\n",
       "      <td>C</td>\n",
       "      <td>C5</td>\n",
       "      <td>...</td>\n",
       "      <td>RENT</td>\n",
       "      <td>12252.0</td>\n",
       "      <td>Not Verified</td>\n",
       "      <td>2011-12-01</td>\n",
       "      <td>0</td>\n",
       "      <td>small_business</td>\n",
       "      <td>8.72</td>\n",
       "      <td>2400.00</td>\n",
       "      <td>12</td>\n",
       "      <td>2011</td>\n",
       "    </tr>\n",
       "    <tr>\n",
       "      <th>3</th>\n",
       "      <td>1076863</td>\n",
       "      <td>1277178</td>\n",
       "      <td>10000</td>\n",
       "      <td>10000</td>\n",
       "      <td>10000.0</td>\n",
       "      <td>36 months</td>\n",
       "      <td>13.49</td>\n",
       "      <td>339.31</td>\n",
       "      <td>C</td>\n",
       "      <td>C1</td>\n",
       "      <td>...</td>\n",
       "      <td>RENT</td>\n",
       "      <td>49200.0</td>\n",
       "      <td>Source Verified</td>\n",
       "      <td>2011-12-01</td>\n",
       "      <td>0</td>\n",
       "      <td>other</td>\n",
       "      <td>20.00</td>\n",
       "      <td>10000.00</td>\n",
       "      <td>12</td>\n",
       "      <td>2011</td>\n",
       "    </tr>\n",
       "    <tr>\n",
       "      <th>5</th>\n",
       "      <td>1075269</td>\n",
       "      <td>1311441</td>\n",
       "      <td>5000</td>\n",
       "      <td>5000</td>\n",
       "      <td>5000.0</td>\n",
       "      <td>36 months</td>\n",
       "      <td>7.90</td>\n",
       "      <td>156.46</td>\n",
       "      <td>A</td>\n",
       "      <td>A4</td>\n",
       "      <td>...</td>\n",
       "      <td>RENT</td>\n",
       "      <td>36000.0</td>\n",
       "      <td>Source Verified</td>\n",
       "      <td>2011-12-01</td>\n",
       "      <td>0</td>\n",
       "      <td>wedding</td>\n",
       "      <td>11.20</td>\n",
       "      <td>5000.00</td>\n",
       "      <td>12</td>\n",
       "      <td>2011</td>\n",
       "    </tr>\n",
       "  </tbody>\n",
       "</table>\n",
       "<p>5 rows × 21 columns</p>\n",
       "</div>"
      ],
      "text/plain": [
       "        id  member_id  loan_amnt  funded_amnt  funded_amnt_inv        term  \\\n",
       "0  1077501    1296599       5000         5000           4975.0   36 months   \n",
       "1  1077430    1314167       2500         2500           2500.0   60 months   \n",
       "2  1077175    1313524       2400         2400           2400.0   36 months   \n",
       "3  1076863    1277178      10000        10000          10000.0   36 months   \n",
       "5  1075269    1311441       5000         5000           5000.0   36 months   \n",
       "\n",
       "   int_rate  installment grade sub_grade  ...  home_ownership annual_inc  \\\n",
       "0     10.65       162.87     B        B2  ...            RENT    24000.0   \n",
       "1     15.27        59.83     C        C4  ...            RENT    30000.0   \n",
       "2     15.96        84.33     C        C5  ...            RENT    12252.0   \n",
       "3     13.49       339.31     C        C1  ...            RENT    49200.0   \n",
       "5      7.90       156.46     A        A4  ...            RENT    36000.0   \n",
       "\n",
       "   verification_status    issue_d loan_status         purpose    dti  \\\n",
       "0             Verified 2011-12-01           0     credit_card  27.65   \n",
       "1      Source Verified 2011-12-01           1             car   1.00   \n",
       "2         Not Verified 2011-12-01           0  small_business   8.72   \n",
       "3      Source Verified 2011-12-01           0           other  20.00   \n",
       "5      Source Verified 2011-12-01           0         wedding  11.20   \n",
       "\n",
       "   total_rec_prncp  month  year  \n",
       "0          5000.00     12  2011  \n",
       "1           456.46     12  2011  \n",
       "2          2400.00     12  2011  \n",
       "3         10000.00     12  2011  \n",
       "5          5000.00     12  2011  \n",
       "\n",
       "[5 rows x 21 columns]"
      ]
     },
     "execution_count": 34,
     "metadata": {},
     "output_type": "execute_result"
    }
   ],
   "source": [
    "df.head()"
   ]
  },
  {
   "cell_type": "code",
   "execution_count": 35,
   "id": "289642b1",
   "metadata": {},
   "outputs": [],
   "source": [
    "# lets create categories of loan_amnt based on conditions so that it can be visualize easily\n",
    "\n",
    "def loan_amount(n):\n",
    "    if n < 5000:\n",
    "        return 'low'\n",
    "    elif n >= 5000 and n < 15000:\n",
    "        return 'med'\n",
    "    elif n >= 15000 and n < 25000:\n",
    "        return 'high'\n",
    "    else:\n",
    "        return 'very high'\n",
    "    \n",
    "df['loan_amnt'] = df['loan_amnt'].apply(lambda x: loan_amount(x))\n",
    "\n",
    "# also for interest rate\n",
    "\n",
    "def int_rate(n):\n",
    "    if n <= 10:\n",
    "        return 'low'\n",
    "    elif n > 10 and n <= 15:\n",
    "        return 'med'\n",
    "    else:\n",
    "        return 'high'\n",
    "    \n",
    "df['int_rate'] = df['int_rate'].apply(lambda x: int_rate(x))"
   ]
  },
  {
   "cell_type": "code",
   "execution_count": 44,
   "id": "469fd895",
   "metadata": {},
   "outputs": [
    {
     "data": {
      "image/png": "[encoded data removed]",
      "text/plain": [
       "<Figure size 576x432 with 1 Axes>"
      ]
     },
     "metadata": {
      "needs_background": "light"
     },
     "output_type": "display_data"
    }
   ],
   "source": [
    "plt.figure(figsize = (8,6))\n",
    "\n",
    "sns.barplot(x = 'loan_amnt', y = 'loan_status', data = df)\n",
    "\n",
    "plt.show()"
   ]
  },
  {
   "cell_type": "markdown",
   "id": "5e4921a3",
   "metadata": {},
   "source": [
    "- High to very high loan amount has higher default rate"
   ]
  },
  {
   "cell_type": "code",
   "execution_count": 43,
   "id": "b1a04b50",
   "metadata": {},
   "outputs": [
    {
     "data": {
      "image/png": "[encoded data removed]",
      "text/plain": [
       "<Figure size 576x432 with 1 Axes>"
      ]
     },
     "metadata": {
      "needs_background": "light"
     },
     "output_type": "display_data"
    }
   ],
   "source": [
    "plt.figure(figsize = (8,6))\n",
    "\n",
    "sns.barplot(x = 'int_rate', y = 'loan_status', data = df)\n",
    "\n",
    "plt.show()"
   ]
  },
  {
   "cell_type": "markdown",
   "id": "526e9edf",
   "metadata": {},
   "source": [
    "- High interest rate loans has higher default rate"
   ]
  },
  {
   "cell_type": "markdown",
   "id": "8ae808f3",
   "metadata": {},
   "source": [
    "## What is a debt-to-income ratio?\n",
    "\n",
    "Debt-to-income ratio (DTI) is all monthly debt payments divided by gross monthly income. This number is one way lenders measure customers ability to manage the monthly payments to repay the money customer plan to borrow."
   ]
  },
  {
   "cell_type": "code",
   "execution_count": 38,
   "id": "61311f2a",
   "metadata": {},
   "outputs": [],
   "source": [
    "# lets categories DTI(debt-to-income ratio) into three level.\n",
    "\n",
    "def DTI(n):\n",
    "    if n <= 5:\n",
    "        return 'low'\n",
    "    elif n > 5 and n <= 15:\n",
    "        return 'med'\n",
    "    else:\n",
    "        return 'high'\n",
    "    \n",
    "df['dti'] = df['dti'].apply(lambda x: DTI(x))"
   ]
  },
  {
   "cell_type": "code",
   "execution_count": 42,
   "id": "5b78888f",
   "metadata": {
    "scrolled": true
   },
   "outputs": [
    {
     "data": {
      "image/png": "[encoded data removed]",
      "text/plain": [
       "<Figure size 576x432 with 1 Axes>"
      ]
     },
     "metadata": {
      "needs_background": "light"
     },
     "output_type": "display_data"
    }
   ],
   "source": [
    "plt.figure(figsize = (8,6))\n",
    "\n",
    "sns.barplot(x = 'dti', y = 'loan_status', data = df)\n",
    "\n",
    "plt.show()"
   ]
  },
  {
   "cell_type": "markdown",
   "id": "836a946e",
   "metadata": {},
   "source": [
    " - higher DTI is responsible for default rate."
   ]
  },
  {
   "cell_type": "markdown",
   "id": "122b6183",
   "metadata": {},
   "source": [
    "#### Correlation between variables"
   ]
  },
  {
   "cell_type": "code",
   "execution_count": 53,
   "id": "ff7f92d7",
   "metadata": {},
   "outputs": [
    {
     "name": "stdout",
     "output_type": "stream",
     "text": [
      "<class 'pandas.core.frame.DataFrame'>\n",
      "Int64Index: 37544 entries, 0 to 39716\n",
      "Data columns (total 19 columns):\n",
      " #   Column               Non-Null Count  Dtype         \n",
      "---  ------               --------------  -----         \n",
      " 0   loan_amnt            37544 non-null  object        \n",
      " 1   funded_amnt          37544 non-null  int64         \n",
      " 2   funded_amnt_inv      37544 non-null  float64       \n",
      " 3   term                 37544 non-null  object        \n",
      " 4   int_rate             37544 non-null  object        \n",
      " 5   installment          37544 non-null  float64       \n",
      " 6   grade                37544 non-null  object        \n",
      " 7   sub_grade            37544 non-null  object        \n",
      " 8   emp_length           37544 non-null  int64         \n",
      " 9   home_ownership       37544 non-null  object        \n",
      " 10  annual_inc           37544 non-null  float64       \n",
      " 11  verification_status  37544 non-null  object        \n",
      " 12  issue_d              37544 non-null  datetime64[ns]\n",
      " 13  loan_status          37544 non-null  int64         \n",
      " 14  purpose              37544 non-null  object        \n",
      " 15  dti                  37544 non-null  object        \n",
      " 16  total_rec_prncp      37544 non-null  float64       \n",
      " 17  month                37544 non-null  int64         \n",
      " 18  year                 37544 non-null  int64         \n",
      "dtypes: datetime64[ns](1), float64(4), int64(5), object(9)\n",
      "memory usage: 6.7+ MB\n"
     ]
    }
   ],
   "source": [
    "df.drop(df.columns[[0,1]],axis = 1, inplace = True)\n",
    "df.info()"
   ]
  },
  {
   "cell_type": "code",
   "execution_count": 55,
   "id": "1b6e58e3",
   "metadata": {},
   "outputs": [
    {
     "data": {
      "image/png": "[encoded data removed]",
      "text/plain": [
       "<Figure size 720x720 with 2 Axes>"
      ]
     },
     "metadata": {
      "needs_background": "light"
     },
     "output_type": "display_data"
    }
   ],
   "source": [
    "# heatmap\n",
    "plt.figure(figsize=(10,10))\n",
    "\n",
    "sns.heatmap(df.corr(),annot = True)\n",
    "plt.show()"
   ]
  },
  {
   "cell_type": "markdown",
   "id": "d552f253",
   "metadata": {},
   "source": [
    "- **Funded amount** is highly correlated with **installments** and **Total principle amount recovered**.\n",
    "- **loan status** is negatively correlated with **Total principle amount recovered**"
   ]
  },
  {
   "cell_type": "code",
   "execution_count": 60,
   "id": "b8ade040",
   "metadata": {},
   "outputs": [
    {
     "data": {
      "image/png": "[encoded data removed]",
      "text/plain": [
       "<Figure size 1080x432 with 1 Axes>"
      ]
     },
     "metadata": {
      "needs_background": "light"
     },
     "output_type": "display_data"
    }
   ],
   "source": [
    "# visualize segment wise\n",
    "plt.figure(figsize=[15,6])\n",
    "\n",
    "sns.barplot(x='term', y='loan_status', hue = 'purpose', data = df)\n",
    "plt.show()"
   ]
  },
  {
   "cell_type": "markdown",
   "id": "83951639",
   "metadata": {},
   "source": [
    "30m term loans \n",
    "– small business and \n",
    "renewable energy purposes tend to default more.\n",
    "\n",
    "60m term loans \n",
    "– educational and small \n",
    "businesses default high."
   ]
  },
  {
   "cell_type": "code",
   "execution_count": null,
   "id": "81f5c19c",
   "metadata": {},
   "outputs": [],
   "source": []
  }
 ],
 "metadata": {
  "kernelspec": {
   "display_name": "Python 3 (ipykernel)",
   "language": "python",
   "name": "python3"
  },
  "language_info": {
   "codemirror_mode": {
    "name": "ipython",
    "version": 3
   },
   "file_extension": ".py",
   "mimetype": "text/x-python",
   "name": "python",
   "nbconvert_exporter": "python",
   "pygments_lexer": "ipython3",
   "version": "3.9.7"
  }
 },
 "nbformat": 4,
 "nbformat_minor": 5
}
